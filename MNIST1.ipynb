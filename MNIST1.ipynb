{
 "cells": [
  {
   "cell_type": "code",
   "execution_count": 5,
   "metadata": {},
   "outputs": [
    {
     "ename": "ImportError",
     "evalue": "cannot import name 'to_categorical' from 'tensorflow.python.keras.utils' (C:\\Users\\Richard\\anaconda3\\envs\\ml\\lib\\site-packages\\tensorflow_core\\python\\keras\\utils\\__init__.py)",
     "output_type": "error",
     "traceback": [
      "\u001b[1;31m---------------------------------------------------------------------------\u001b[0m",
      "\u001b[1;31mImportError\u001b[0m                               Traceback (most recent call last)",
      "\u001b[1;32m<ipython-input-5-1bce93a99b97>\u001b[0m in \u001b[0;36m<module>\u001b[1;34m\u001b[0m\n\u001b[0;32m      9\u001b[0m \u001b[1;32mfrom\u001b[0m \u001b[0mtensorflow\u001b[0m\u001b[1;33m.\u001b[0m\u001b[0mpython\u001b[0m\u001b[1;33m.\u001b[0m\u001b[0mkeras\u001b[0m\u001b[1;33m.\u001b[0m\u001b[0mlosses\u001b[0m \u001b[1;32mimport\u001b[0m \u001b[0mcategorical_crossentropy\u001b[0m \u001b[1;31m#loss function\u001b[0m\u001b[1;33m\u001b[0m\u001b[1;33m\u001b[0m\u001b[0m\n\u001b[0;32m     10\u001b[0m \u001b[1;32mfrom\u001b[0m \u001b[0mtensorflow\u001b[0m\u001b[1;33m.\u001b[0m\u001b[0mpython\u001b[0m\u001b[1;33m.\u001b[0m\u001b[0mkeras\u001b[0m\u001b[1;33m.\u001b[0m\u001b[0moptimizers\u001b[0m \u001b[1;32mimport\u001b[0m \u001b[0mAdam\u001b[0m\u001b[1;33m,\u001b[0m \u001b[0mSGD\u001b[0m \u001b[1;31m#optimisers\u001b[0m\u001b[1;33m\u001b[0m\u001b[1;33m\u001b[0m\u001b[0m\n\u001b[1;32m---> 11\u001b[1;33m \u001b[1;32mfrom\u001b[0m \u001b[0mtensorflow\u001b[0m\u001b[1;33m.\u001b[0m\u001b[0mpython\u001b[0m\u001b[1;33m.\u001b[0m\u001b[0mkeras\u001b[0m\u001b[1;33m.\u001b[0m\u001b[0mutils\u001b[0m \u001b[1;32mimport\u001b[0m \u001b[0mto_categorical\u001b[0m \u001b[1;31m#some function for data preparation\u001b[0m\u001b[1;33m\u001b[0m\u001b[1;33m\u001b[0m\u001b[0m\n\u001b[0m",
      "\u001b[1;31mImportError\u001b[0m: cannot import name 'to_categorical' from 'tensorflow.python.keras.utils' (C:\\Users\\Richard\\anaconda3\\envs\\ml\\lib\\site-packages\\tensorflow_core\\python\\keras\\utils\\__init__.py)"
     ]
    }
   ],
   "source": [
    "import numpy as np\n",
    "import tensorflow as tf\n",
    "import matplotlib.pyplot as plt\n",
    "\n",
    "from tensorflow.keras.datasets import mnist #to import our dataset\n",
    "from tensorflow.keras.models import Sequential, Model # imports our type of network\n",
    "from tensorflow.keras.layers import Dense, Flatten, Input # imports our layers we want to use\n",
    "\n",
    "from tensorflow.python.keras.losses import categorical_crossentropy #loss function\n",
    "from tensorflow.python.keras.optimizers import Adam, SGD #optimisers\n",
    "#from tensorflow.python.keras.utils import to_categorical #some function for data preparation\n"
   ]
  },
  {
   "cell_type": "code",
   "execution_count": 6,
   "metadata": {},
   "outputs": [
    {
     "name": "stdout",
     "output_type": "stream",
     "text": [
      "x_train shape: (60000, 28, 28)\n",
      "60000 train samples\n",
      "10000 test samples\n"
     ]
    }
   ],
   "source": [
    "batch_size = 128\n",
    "num_classes = 10\n",
    "epochs = 20\n",
    "\n",
    "# input image dimensions\n",
    "img_rows, img_cols = 28, 28\n",
    "\n",
    "# the data, split between train and test sets\n",
    "(x_train, y_train), (x_test, y_test) = mnist.load_data()\n",
    "\n",
    "x_train = x_train.astype('float32')\n",
    "x_test = x_test.astype('float32')\n",
    "x_train /= 255\n",
    "x_test /= 255\n",
    "print('x_train shape:', x_train.shape)\n",
    "print(x_train.shape[0], 'train samples')\n",
    "print(x_test.shape[0], 'test samples')\n",
    "\n",
    "# convert class vectors to binary class matrices\n",
    "#y_train = to_categorical(y_train, num_classes)\n",
    "#y_test = to_categorical(y_test, num_classes)\n"
   ]
  },
  {
   "cell_type": "code",
   "execution_count": 8,
   "metadata": {},
   "outputs": [
    {
     "name": "stdout",
     "output_type": "stream",
     "text": [
      "[5 0 4 ... 5 6 8]\n"
     ]
    }
   ],
   "source": [
    "print(y_train)"
   ]
  },
  {
   "cell_type": "code",
   "execution_count": 6,
   "metadata": {},
   "outputs": [
    {
     "name": "stdout",
     "output_type": "stream",
     "text": [
      "[0. 0. 0. 0. 0. 1. 0. 0. 0. 0.]\n"
     ]
    },
    {
     "data": {
      "text/plain": [
       "<matplotlib.image.AxesImage at 0x25b0cc96cc8>"
      ]
     },
     "execution_count": 6,
     "metadata": {},
     "output_type": "execute_result"
    },
    {
     "data": {
      "image/png": "[encoded data removed]",
      "text/plain": [
       "<Figure size 432x288 with 1 Axes>"
      ]
     },
     "metadata": {
      "needs_background": "light"
     },
     "output_type": "display_data"
    }
   ],
   "source": [
    "print(y_train[0])\n",
    "\n",
    "plt.imshow(x_train[0])"
   ]
  },
  {
   "cell_type": "code",
   "execution_count": 12,
   "metadata": {},
   "outputs": [],
   "source": [
    "#Neural network with single dense hidden layer\n",
    "\n",
    "model = Sequential()\n",
    "model.add(Flatten())\n",
    "model.add(Dense(128, activation='relu'))\n",
    "model.add(Dense(num_classes, activation='softmax'))\n",
    "\n",
    "model.compile(loss=categorical_crossentropy,\n",
    "              optimizer=SGD(), metrics=['accuracy'])\n",
    "\n",
    "#model.compile(loss=categorical_crossentropy,optimizer=Adadelta())\n"
   ]
  },
  {
   "cell_type": "code",
   "execution_count": 13,
   "metadata": {},
   "outputs": [
    {
     "name": "stdout",
     "output_type": "stream",
     "text": [
      "Train on 60000 samples, validate on 10000 samples\n",
      "Epoch 1/20\n",
      "60000/60000 [==============================] - 2s 29us/sample - loss: 1.1748 - acc: 0.7195 - val_loss: 0.6477 - val_acc: 0.8491\n",
      "Epoch 2/20\n",
      "60000/60000 [==============================] - 2s 25us/sample - loss: 0.5556 - acc: 0.8614 - val_loss: 0.4597 - val_acc: 0.8831\n",
      "Epoch 3/20\n",
      "60000/60000 [==============================] - 2s 28us/sample - loss: 0.4422 - acc: 0.8822 - val_loss: 0.3933 - val_acc: 0.8972\n",
      "Epoch 4/20\n",
      "60000/60000 [==============================] - 2s 27us/sample - loss: 0.3918 - acc: 0.8928 - val_loss: 0.3575 - val_acc: 0.9048\n",
      "Epoch 5/20\n",
      "60000/60000 [==============================] - 2s 28us/sample - loss: 0.3616 - acc: 0.8998 - val_loss: 0.3342 - val_acc: 0.9092\n",
      "Epoch 6/20\n",
      "60000/60000 [==============================] - 2s 28us/sample - loss: 0.3404 - acc: 0.9050 - val_loss: 0.3174 - val_acc: 0.9124\n",
      "Epoch 7/20\n",
      "60000/60000 [==============================] - 2s 27us/sample - loss: 0.3241 - acc: 0.9093 - val_loss: 0.3034 - val_acc: 0.9163\n",
      "Epoch 8/20\n",
      "60000/60000 [==============================] - 2s 26us/sample - loss: 0.3108 - acc: 0.9127 - val_loss: 0.2923 - val_acc: 0.9189\n",
      "Epoch 9/20\n",
      "60000/60000 [==============================] - 2s 27us/sample - loss: 0.2994 - acc: 0.9158 - val_loss: 0.2829 - val_acc: 0.9225\n",
      "Epoch 10/20\n",
      "60000/60000 [==============================] - 2s 25us/sample - loss: 0.2893 - acc: 0.9186 - val_loss: 0.2743 - val_acc: 0.9243\n",
      "Epoch 11/20\n",
      "60000/60000 [==============================] - 2s 28us/sample - loss: 0.2803 - acc: 0.9212 - val_loss: 0.2667 - val_acc: 0.9266\n",
      "Epoch 12/20\n",
      "60000/60000 [==============================] - 2s 25us/sample - loss: 0.2720 - acc: 0.9233 - val_loss: 0.2592 - val_acc: 0.9279\n",
      "Epoch 13/20\n",
      "60000/60000 [==============================] - 2s 25us/sample - loss: 0.2646 - acc: 0.9255 - val_loss: 0.2538 - val_acc: 0.9288\n",
      "Epoch 14/20\n",
      "60000/60000 [==============================] - 2s 29us/sample - loss: 0.2577 - acc: 0.9280 - val_loss: 0.2468 - val_acc: 0.9310\n",
      "Epoch 15/20\n",
      "60000/60000 [==============================] - 2s 26us/sample - loss: 0.2511 - acc: 0.9299 - val_loss: 0.2413 - val_acc: 0.9318\n",
      "Epoch 16/20\n",
      "60000/60000 [==============================] - 2s 26us/sample - loss: 0.2450 - acc: 0.9314 - val_loss: 0.2354 - val_acc: 0.9333\n",
      "Epoch 17/20\n",
      "60000/60000 [==============================] - 2s 25us/sample - loss: 0.2392 - acc: 0.9331 - val_loss: 0.2307 - val_acc: 0.9350\n",
      "Epoch 18/20\n",
      "60000/60000 [==============================] - 2s 26us/sample - loss: 0.2337 - acc: 0.9351 - val_loss: 0.2269 - val_acc: 0.9354\n",
      "Epoch 19/20\n",
      "60000/60000 [==============================] - 2s 27us/sample - loss: 0.2287 - acc: 0.9360 - val_loss: 0.2215 - val_acc: 0.9373\n",
      "Epoch 20/20\n",
      "60000/60000 [==============================] - 2s 28us/sample - loss: 0.2236 - acc: 0.9376 - val_loss: 0.2178 - val_acc: 0.9396\n"
     ]
    }
   ],
   "source": [
    "history1=model.fit(x_train, y_train,\n",
    "          batch_size=batch_size,\n",
    "          epochs=epochs,\n",
    "          verbose=1,\n",
    "          validation_data=(x_test, y_test))"
   ]
  },
  {
   "cell_type": "code",
   "execution_count": 14,
   "metadata": {},
   "outputs": [
    {
     "name": "stdout",
     "output_type": "stream",
     "text": [
      "Model: \"sequential_3\"\n",
      "_________________________________________________________________\n",
      "Layer (type)                 Output Shape              Param #   \n",
      "=================================================================\n",
      "flatten_3 (Flatten)          multiple                  0         \n",
      "_________________________________________________________________\n",
      "dense_6 (Dense)              multiple                  100480    \n",
      "_________________________________________________________________\n",
      "dense_7 (Dense)              multiple                  1290      \n",
      "=================================================================\n",
      "Total params: 101,770\n",
      "Trainable params: 101,770\n",
      "Non-trainable params: 0\n",
      "_________________________________________________________________\n"
     ]
    }
   ],
   "source": [
    "model.summary()"
   ]
  },
  {
   "cell_type": "code",
   "execution_count": 8,
   "metadata": {},
   "outputs": [
    {
     "name": "stdout",
     "output_type": "stream",
     "text": [
      "10000/10000 [==============================] - 1s 53us/sample - loss: 0.2216 - acc: 0.9380\n",
      "\n",
      "Test loss: 0.22163338498175145\n",
      "Test accuracy: 0.938\n"
     ]
    },
    {
     "data": {
      "image/png": "[encoded data removed]",
      "text/plain": [
       "<Figure size 432x288 with 1 Axes>"
      ]
     },
     "metadata": {
      "needs_background": "light"
     },
     "output_type": "display_data"
    },
    {
     "data": {
      "image/png": "[encoded data removed]",
      "text/plain": [
       "<Figure size 432x288 with 1 Axes>"
      ]
     },
     "metadata": {
      "needs_background": "light"
     },
     "output_type": "display_data"
    }
   ],
   "source": [
    "# evaluate model\n",
    "score = model.evaluate(x_test, y_test, verbose=1)\n",
    "\n",
    "# print performance\n",
    "print()\n",
    "print('Test loss:', score[0])\n",
    "print('Test accuracy:', score[1])\n",
    "\n",
    "# look into training history\n",
    "\n",
    "# summarize history for accuracy\n",
    "plt.plot(history1.history['acc'])\n",
    "plt.plot(history1.history['val_acc'])\n",
    "plt.ylabel('model accuracy')\n",
    "plt.xlabel('epoch')\n",
    "plt.legend(['train', 'test'], loc='best')\n",
    "plt.show()\n",
    "\n",
    "# summarize history for loss\n",
    "plt.plot(history1.history['loss'])\n",
    "plt.plot(history1.history['val_loss'])\n",
    "plt.ylabel('model loss')\n",
    "plt.xlabel('epoch')\n",
    "plt.legend(['train', 'test'], loc='best')\n",
    "plt.show()"
   ]
  },
  {
   "cell_type": "code",
   "execution_count": 9,
   "metadata": {},
   "outputs": [
    {
     "name": "stdout",
     "output_type": "stream",
     "text": [
      "Train on 60000 samples, validate on 10000 samples\n",
      "Epoch 1/20\n",
      "60000/60000 [==============================] - 4s 65us/sample - loss: 0.3675 - acc: 0.9000 - val_loss: 0.2096 - val_acc: 0.9406\n",
      "Epoch 2/20\n",
      "60000/60000 [==============================] - 4s 60us/sample - loss: 0.1728 - acc: 0.9508 - val_loss: 0.1396 - val_acc: 0.9591\n",
      "Epoch 3/20\n",
      "60000/60000 [==============================] - 4s 61us/sample - loss: 0.1233 - acc: 0.9649 - val_loss: 0.1177 - val_acc: 0.9655\n",
      "Epoch 4/20\n",
      "60000/60000 [==============================] - 3s 49us/sample - loss: 0.0955 - acc: 0.9724 - val_loss: 0.0952 - val_acc: 0.9723\n",
      "Epoch 5/20\n",
      "60000/60000 [==============================] - 3s 50us/sample - loss: 0.0763 - acc: 0.9781 - val_loss: 0.0907 - val_acc: 0.9735\n",
      "Epoch 6/20\n",
      "60000/60000 [==============================] - 4s 71us/sample - loss: 0.0623 - acc: 0.9822 - val_loss: 0.0856 - val_acc: 0.9748\n",
      "Epoch 7/20\n",
      "60000/60000 [==============================] - 4s 64us/sample - loss: 0.0517 - acc: 0.9852 - val_loss: 0.0799 - val_acc: 0.9764\n",
      "Epoch 8/20\n",
      "60000/60000 [==============================] - 5s 78us/sample - loss: 0.0434 - acc: 0.9874 - val_loss: 0.0746 - val_acc: 0.9777\n",
      "Epoch 9/20\n",
      "60000/60000 [==============================] - 4s 70us/sample - loss: 0.0374 - acc: 0.9898 - val_loss: 0.0715 - val_acc: 0.9787\n",
      "Epoch 10/20\n",
      "60000/60000 [==============================] - 4s 59us/sample - loss: 0.0316 - acc: 0.9916 - val_loss: 0.0706 - val_acc: 0.9785\n",
      "Epoch 11/20\n",
      "60000/60000 [==============================] - 4s 60us/sample - loss: 0.0266 - acc: 0.9928 - val_loss: 0.0691 - val_acc: 0.9784\n",
      "Epoch 12/20\n",
      "60000/60000 [==============================] - 3s 56us/sample - loss: 0.0228 - acc: 0.9941 - val_loss: 0.0744 - val_acc: 0.9780\n",
      "Epoch 13/20\n",
      "60000/60000 [==============================] - 3s 56us/sample - loss: 0.0193 - acc: 0.9953 - val_loss: 0.0713 - val_acc: 0.9785\n",
      "Epoch 14/20\n",
      "60000/60000 [==============================] - 3s 58us/sample - loss: 0.0158 - acc: 0.9966 - val_loss: 0.0736 - val_acc: 0.9780\n",
      "Epoch 15/20\n",
      "60000/60000 [==============================] - 4s 60us/sample - loss: 0.0137 - acc: 0.9970 - val_loss: 0.0726 - val_acc: 0.9787\n",
      "Epoch 16/20\n",
      "60000/60000 [==============================] - 4s 58us/sample - loss: 0.0119 - acc: 0.9977 - val_loss: 0.0740 - val_acc: 0.9792\n",
      "Epoch 17/20\n",
      "60000/60000 [==============================] - 4s 70us/sample - loss: 0.0100 - acc: 0.9983 - val_loss: 0.0774 - val_acc: 0.9781\n",
      "Epoch 18/20\n",
      "60000/60000 [==============================] - 4s 63us/sample - loss: 0.0088 - acc: 0.9983 - val_loss: 0.0764 - val_acc: 0.9787\n",
      "Epoch 19/20\n",
      "60000/60000 [==============================] - 4s 71us/sample - loss: 0.0076 - acc: 0.9985 - val_loss: 0.0803 - val_acc: 0.9778\n",
      "Epoch 20/20\n",
      "60000/60000 [==============================] - 3s 54us/sample - loss: 0.0071 - acc: 0.9986 - val_loss: 0.0775 - val_acc: 0.9788\n"
     ]
    }
   ],
   "source": [
    "model = Sequential()\n",
    "model.add(Flatten())\n",
    "model.add(Dense(128, activation='relu'))\n",
    "model.add(Dense(num_classes, activation='softmax'))\n",
    "\n",
    "#model.compile(loss=categorical_crossentropy,optimizer=SGD(), metrics=['accuracy'])\n",
    "\n",
    "model.compile(loss=categorical_crossentropy,optimizer=Adam(), metrics=['accuracy'])\n",
    "\n",
    "history2=model.fit(x_train, y_train,\n",
    "          batch_size=batch_size,\n",
    "          epochs=epochs,\n",
    "          verbose=1,\n",
    "          validation_data=(x_test, y_test))"
   ]
  },
  {
   "cell_type": "code",
   "execution_count": 10,
   "metadata": {
    "scrolled": true
   },
   "outputs": [
    {
     "name": "stdout",
     "output_type": "stream",
     "text": [
      "Train on 60000 samples, validate on 10000 samples\n",
      "Epoch 1/20\n",
      "60000/60000 [==============================] - 2s 41us/sample - loss: 0.6642 - acc: 0.8352 - val_loss: 0.3818 - val_acc: 0.9027\n",
      "Epoch 2/20\n",
      "60000/60000 [==============================] - 2s 34us/sample - loss: 0.3601 - acc: 0.9028 - val_loss: 0.3192 - val_acc: 0.9134\n",
      "Epoch 3/20\n",
      "60000/60000 [==============================] - 2s 30us/sample - loss: 0.3187 - acc: 0.9120 - val_loss: 0.2973 - val_acc: 0.9183s: 0.3\n",
      "Epoch 4/20\n",
      "60000/60000 [==============================] - 2s 30us/sample - loss: 0.2994 - acc: 0.9170 - val_loss: 0.2845 - val_acc: 0.9221\n",
      "Epoch 5/20\n",
      "60000/60000 [==============================] - 2s 34us/sample - loss: 0.2875 - acc: 0.9202 - val_loss: 0.2770 - val_acc: 0.9220\n",
      "Epoch 6/20\n",
      "60000/60000 [==============================] - 3s 42us/sample - loss: 0.2797 - acc: 0.9222 - val_loss: 0.2748 - val_acc: 0.9226\n",
      "Epoch 7/20\n",
      "60000/60000 [==============================] - 3s 55us/sample - loss: 0.2737 - acc: 0.9232 - val_loss: 0.2735 - val_acc: 0.9241\n",
      "Epoch 8/20\n",
      "60000/60000 [==============================] - 4s 60us/sample - loss: 0.2692 - acc: 0.9247 - val_loss: 0.2713 - val_acc: 0.9247\n",
      "Epoch 9/20\n",
      "60000/60000 [==============================] - 2s 41us/sample - loss: 0.2656 - acc: 0.9256 - val_loss: 0.2681 - val_acc: 0.9251\n",
      "Epoch 10/20\n",
      "60000/60000 [==============================] - 3s 43us/sample - loss: 0.2621 - acc: 0.9271 - val_loss: 0.2682 - val_acc: 0.9243\n",
      "Epoch 11/20\n",
      "60000/60000 [==============================] - 2s 28us/sample - loss: 0.2596 - acc: 0.9281 - val_loss: 0.2710 - val_acc: 0.9245\n",
      "Epoch 12/20\n",
      "60000/60000 [==============================] - 2s 26us/sample - loss: 0.2579 - acc: 0.9283 - val_loss: 0.2644 - val_acc: 0.9270\n",
      "Epoch 13/20\n",
      "60000/60000 [==============================] - 2s 27us/sample - loss: 0.2554 - acc: 0.9290 - val_loss: 0.2627 - val_acc: 0.9271\n",
      "Epoch 14/20\n",
      "60000/60000 [==============================] - 2s 25us/sample - loss: 0.2535 - acc: 0.9298 - val_loss: 0.2671 - val_acc: 0.9254\n",
      "Epoch 15/20\n",
      "60000/60000 [==============================] - 2s 27us/sample - loss: 0.2522 - acc: 0.9301 - val_loss: 0.2632 - val_acc: 0.9273\n",
      "Epoch 16/20\n",
      "60000/60000 [==============================] - 3s 42us/sample - loss: 0.2505 - acc: 0.9305 - val_loss: 0.2649 - val_acc: 0.9272\n",
      "Epoch 17/20\n",
      "60000/60000 [==============================] - 2s 35us/sample - loss: 0.2495 - acc: 0.9309 - val_loss: 0.2635 - val_acc: 0.9270\n",
      "Epoch 18/20\n",
      "60000/60000 [==============================] - 2s 28us/sample - loss: 0.2482 - acc: 0.9316 - val_loss: 0.2657 - val_acc: 0.9262\n",
      "Epoch 19/20\n",
      "60000/60000 [==============================] - 2s 35us/sample - loss: 0.2473 - acc: 0.9312 - val_loss: 0.2666 - val_acc: 0.9266\n",
      "Epoch 20/20\n",
      "60000/60000 [==============================] - 2s 42us/sample - loss: 0.2462 - acc: 0.9322 - val_loss: 0.2644 - val_acc: 0.9254\n"
     ]
    }
   ],
   "source": [
    "# our old example: linear regression\n",
    "model = Sequential()\n",
    "model.add(Flatten())\n",
    "#model.add(Dense(128, activation='relu'))\n",
    "model.add(Dense(num_classes, activation='softmax'))\n",
    "\n",
    "#model.compile(loss=categorical_crossentropy,optimizer=SGD(), metrics=['accuracy'])\n",
    "\n",
    "model.compile(loss=categorical_crossentropy,optimizer=Adam(), metrics=['accuracy'])\n",
    "\n",
    "history3=model.fit(x_train, y_train,\n",
    "          batch_size=batch_size,\n",
    "          epochs=epochs,\n",
    "          verbose=1,\n",
    "          validation_data=(x_test, y_test))"
   ]
  },
  {
   "cell_type": "code",
   "execution_count": 11,
   "metadata": {},
   "outputs": [
    {
     "data": {
      "image/png": "[encoded data removed]",
      "text/plain": [
       "<Figure size 432x288 with 1 Axes>"
      ]
     },
     "metadata": {
      "needs_background": "light"
     },
     "output_type": "display_data"
    },
    {
     "data": {
      "image/png": "[encoded data removed]",
      "text/plain": [
       "<Figure size 432x288 with 1 Axes>"
      ]
     },
     "metadata": {
      "needs_background": "light"
     },
     "output_type": "display_data"
    }
   ],
   "source": [
    "# evaluate model\n",
    "#score = model.evaluate(x_test, y_test, verbose=1)\n",
    "\n",
    "# print performance\n",
    "#print()\n",
    "#print('Test loss:', score[0])\n",
    "#print('Test accuracy:', score[1])\n",
    "\n",
    "# look into training history\n",
    "\n",
    "# summarize history for accuracy\n",
    "plt.plot(history3.history['acc'])\n",
    "plt.plot(history3.history['val_acc'])\n",
    "plt.plot(history2.history['acc'])\n",
    "plt.plot(history2.history['val_acc'])\n",
    "#plt.plot(history1.history['acc'])\n",
    "#plt.plot(history1.history['val_acc'])\n",
    "plt.ylabel('model accuracy')\n",
    "plt.xlabel('epoch')\n",
    "plt.legend(['train (LR)', 'test (LR)','train (Dense,Adam)', 'test (Dense, Adam)','train (Dense,SGD)', 'test (Dense, SGD)'], loc='best')\n",
    "plt.show()\n",
    "\n",
    "# summarize history for loss\n",
    "plt.plot(history3.history['loss'])\n",
    "plt.plot(history3.history['val_loss'])\n",
    "plt.plot(history2.history['loss'])\n",
    "plt.plot(history2.history['val_loss'])\n",
    "plt.plot(history1.history['loss'])\n",
    "plt.plot(history1.history['val_loss'])\n",
    "plt.ylabel('model loss')\n",
    "plt.xlabel('epoch')\n",
    "plt.legend(['train (LR)', 'test (LR)','train (Dense,Adam)', 'test (Dense, Adam)','train (Dense,SGD)', 'test (Dense, SGD)'], loc='best')\n",
    "plt.show()"
   ]
  },
  {
   "cell_type": "code",
   "execution_count": 12,
   "metadata": {},
   "outputs": [
    {
     "name": "stdout",
     "output_type": "stream",
     "text": [
      "Train on 60000 samples, validate on 10000 samples\n",
      "Epoch 1/20\n",
      "60000/60000 [==============================] - 4s 71us/sample - loss: 0.2597 - acc: 0.9250 - val_loss: 0.1130 - val_acc: 0.9652\n",
      "Epoch 2/20\n",
      "60000/60000 [==============================] - 4s 65us/sample - loss: 0.0972 - acc: 0.9706 - val_loss: 0.0960 - val_acc: 0.9715\n",
      "Epoch 3/20\n",
      "60000/60000 [==============================] - 4s 69us/sample - loss: 0.0631 - acc: 0.9808 - val_loss: 0.0781 - val_acc: 0.9774\n",
      "Epoch 4/20\n",
      "60000/60000 [==============================] - 5s 81us/sample - loss: 0.0457 - acc: 0.9861 - val_loss: 0.0767 - val_acc: 0.9743\n",
      "Epoch 5/20\n",
      "60000/60000 [==============================] - 4s 74us/sample - loss: 0.0351 - acc: 0.9882 - val_loss: 0.0806 - val_acc: 0.9747\n",
      "Epoch 6/20\n",
      "60000/60000 [==============================] - 5s 77us/sample - loss: 0.0248 - acc: 0.9923 - val_loss: 0.0877 - val_acc: 0.9752\n",
      "Epoch 7/20\n",
      "60000/60000 [==============================] - 5s 77us/sample - loss: 0.0195 - acc: 0.9938 - val_loss: 0.0907 - val_acc: 0.9755\n",
      "Epoch 8/20\n",
      "60000/60000 [==============================] - 5s 82us/sample - loss: 0.0166 - acc: 0.9946 - val_loss: 0.0818 - val_acc: 0.9783\n",
      "Epoch 9/20\n",
      "60000/60000 [==============================] - 5s 86us/sample - loss: 0.0138 - acc: 0.9954 - val_loss: 0.0759 - val_acc: 0.9787\n",
      "Epoch 10/20\n",
      "60000/60000 [==============================] - 6s 99us/sample - loss: 0.0107 - acc: 0.9968 - val_loss: 0.0842 - val_acc: 0.9776\n",
      "Epoch 11/20\n",
      "60000/60000 [==============================] - 6s 108us/sample - loss: 0.0120 - acc: 0.9958 - val_loss: 0.0871 - val_acc: 0.9765\n",
      "Epoch 12/20\n",
      "60000/60000 [==============================] - 6s 99us/sample - loss: 0.0088 - acc: 0.9971 - val_loss: 0.1052 - val_acc: 0.9741\n",
      "Epoch 13/20\n",
      "60000/60000 [==============================] - 6s 93us/sample - loss: 0.0122 - acc: 0.9959 - val_loss: 0.0996 - val_acc: 0.9771\n",
      "Epoch 14/20\n",
      "60000/60000 [==============================] - 5s 90us/sample - loss: 0.0065 - acc: 0.9978 - val_loss: 0.0855 - val_acc: 0.9799\n",
      "Epoch 15/20\n",
      "60000/60000 [==============================] - 5s 83us/sample - loss: 0.0050 - acc: 0.9984 - val_loss: 0.0891 - val_acc: 0.9804\n",
      "Epoch 16/20\n",
      "60000/60000 [==============================] - 5s 78us/sample - loss: 0.0081 - acc: 0.9972 - val_loss: 0.1340 - val_acc: 0.9707\n",
      "Epoch 17/20\n",
      "60000/60000 [==============================] - 6s 98us/sample - loss: 0.0113 - acc: 0.9959 - val_loss: 0.0973 - val_acc: 0.9767\n",
      "Epoch 18/20\n",
      "60000/60000 [==============================] - 5s 87us/sample - loss: 0.0047 - acc: 0.9984 - val_loss: 0.0878 - val_acc: 0.9793\n",
      "Epoch 19/20\n",
      "60000/60000 [==============================] - 5s 80us/sample - loss: 0.0029 - acc: 0.9991 - val_loss: 0.0843 - val_acc: 0.9816\n",
      "Epoch 20/20\n",
      "60000/60000 [==============================] - 5s 80us/sample - loss: 0.0088 - acc: 0.9972 - val_loss: 0.0946 - val_acc: 0.9801\n"
     ]
    }
   ],
   "source": [
    "model = Sequential()\n",
    "model.add(Flatten())\n",
    "model.add(Dense(200, activation='relu'))\n",
    "model.add(Dense(200, activation='tanh'))\n",
    "model.add(Dense(num_classes, activation='softmax'))\n",
    "\n",
    "#model.compile(loss=categorical_crossentropy,optimizer=SGD(), metrics=['accuracy'])\n",
    "\n",
    "model.compile(loss=categorical_crossentropy,optimizer=Adam(), metrics=['accuracy'])\n",
    "\n",
    "history4=model.fit(x_train, y_train,\n",
    "          batch_size=batch_size,\n",
    "          epochs=epochs,\n",
    "          verbose=1,\n",
    "          validation_data=(x_test, y_test))"
   ]
  },
  {
   "cell_type": "code",
   "execution_count": 11,
   "metadata": {},
   "outputs": [
    {
     "name": "stdout",
     "output_type": "stream",
     "text": [
      "Model: \"sequential_3\"\n",
      "_________________________________________________________________\n",
      "Layer (type)                 Output Shape              Param #   \n",
      "=================================================================\n",
      "flatten_3 (Flatten)          multiple                  0         \n",
      "_________________________________________________________________\n",
      "dense_5 (Dense)              multiple                  157000    \n",
      "_________________________________________________________________\n",
      "dense_6 (Dense)              multiple                  40200     \n",
      "_________________________________________________________________\n",
      "dense_7 (Dense)              multiple                  2010      \n",
      "=================================================================\n",
      "Total params: 199,210\n",
      "Trainable params: 199,210\n",
      "Non-trainable params: 0\n",
      "_________________________________________________________________\n"
     ]
    }
   ],
   "source": [
    "model.summary()"
   ]
  },
  {
   "cell_type": "code",
   "execution_count": 13,
   "metadata": {},
   "outputs": [
    {
     "name": "stdout",
     "output_type": "stream",
     "text": [
      "Model: \"model\"\n",
      "_________________________________________________________________\n",
      "Layer (type)                 Output Shape              Param #   \n",
      "=================================================================\n",
      "input_1 (InputLayer)         [(None, 28, 28)]          0         \n",
      "_________________________________________________________________\n",
      "flatten_5 (Flatten)          (None, 784)               0         \n",
      "_________________________________________________________________\n",
      "dense_10 (Dense)             (None, 200)               157000    \n",
      "_________________________________________________________________\n",
      "dense_11 (Dense)             (None, 200)               40200     \n",
      "_________________________________________________________________\n",
      "dense_12 (Dense)             (None, 10)                2010      \n",
      "=================================================================\n",
      "Total params: 199,210\n",
      "Trainable params: 199,210\n",
      "Non-trainable params: 0\n",
      "_________________________________________________________________\n"
     ]
    }
   ],
   "source": [
    "# Alternative to Sequential model:\n",
    "\n",
    "input_network = Input(shape=(28,28))\n",
    "x = Flatten()(input_network)\n",
    "x = Dense(200, activation='relu')(x)\n",
    "x = Dense(200, activation='relu')(x)\n",
    "y = Dense(num_classes, activation='softmax')(x)\n",
    "\n",
    "model= Model(input_network,outputs=y)\n",
    "opt = Adam(lr=0.0001)\n",
    "model.compile(loss=categorical_crossentropy,optimizer=Adam(), metrics=['accuracy'])\n",
    "model.summary()"
   ]
  },
  {
   "cell_type": "code",
   "execution_count": 14,
   "metadata": {},
   "outputs": [
    {
     "name": "stdout",
     "output_type": "stream",
     "text": [
      "Train on 60000 samples, validate on 10000 samples\n",
      "Epoch 1/20\n",
      "60000/60000 [==============================] - 5s 76us/sample - loss: 0.2822 - acc: 0.9189 - val_loss: 0.1362 - val_acc: 0.9588\n",
      "Epoch 2/20\n",
      "60000/60000 [==============================] - 4s 73us/sample - loss: 0.1045 - acc: 0.9688 - val_loss: 0.0910 - val_acc: 0.9706\n",
      "Epoch 3/20\n",
      "60000/60000 [==============================] - 4s 68us/sample - loss: 0.0701 - acc: 0.9782 - val_loss: 0.0833 - val_acc: 0.9744\n",
      "Epoch 4/20\n",
      "60000/60000 [==============================] - 4s 68us/sample - loss: 0.0496 - acc: 0.9846 - val_loss: 0.0784 - val_acc: 0.9762\n",
      "Epoch 5/20\n",
      "60000/60000 [==============================] - 4s 72us/sample - loss: 0.0388 - acc: 0.9876 - val_loss: 0.0714 - val_acc: 0.9776\n",
      "Epoch 6/20\n",
      "60000/60000 [==============================] - 4s 74us/sample - loss: 0.0297 - acc: 0.9905 - val_loss: 0.0859 - val_acc: 0.9725\n",
      "Epoch 7/20\n",
      "60000/60000 [==============================] - 5s 77us/sample - loss: 0.0261 - acc: 0.9916 - val_loss: 0.0779 - val_acc: 0.9771\n",
      "Epoch 8/20\n",
      "60000/60000 [==============================] - 5s 77us/sample - loss: 0.0188 - acc: 0.9943 - val_loss: 0.0769 - val_acc: 0.9776\n",
      "Epoch 9/20\n",
      "60000/60000 [==============================] - 5s 81us/sample - loss: 0.0154 - acc: 0.9951 - val_loss: 0.0801 - val_acc: 0.9778\n",
      "Epoch 10/20\n",
      "60000/60000 [==============================] - 5s 91us/sample - loss: 0.0124 - acc: 0.9958 - val_loss: 0.0904 - val_acc: 0.9756\n",
      "Epoch 11/20\n",
      "60000/60000 [==============================] - 5s 87us/sample - loss: 0.0135 - acc: 0.9956 - val_loss: 0.0853 - val_acc: 0.9774\n",
      "Epoch 12/20\n",
      "60000/60000 [==============================] - 5s 78us/sample - loss: 0.0115 - acc: 0.9962 - val_loss: 0.0825 - val_acc: 0.9802\n",
      "Epoch 13/20\n",
      "60000/60000 [==============================] - 5s 79us/sample - loss: 0.0119 - acc: 0.9961 - val_loss: 0.0997 - val_acc: 0.9761\n",
      "Epoch 14/20\n",
      "60000/60000 [==============================] - 4s 72us/sample - loss: 0.0106 - acc: 0.9964 - val_loss: 0.1159 - val_acc: 0.9730\n",
      "Epoch 15/20\n",
      "60000/60000 [==============================] - 4s 74us/sample - loss: 0.0084 - acc: 0.9971 - val_loss: 0.0813 - val_acc: 0.9807\n",
      "Epoch 16/20\n",
      "60000/60000 [==============================] - 4s 73us/sample - loss: 0.0091 - acc: 0.9969 - val_loss: 0.0927 - val_acc: 0.9781\n",
      "Epoch 17/20\n",
      "60000/60000 [==============================] - 4s 74us/sample - loss: 0.0074 - acc: 0.9976 - val_loss: 0.0927 - val_acc: 0.9784\n",
      "Epoch 18/20\n",
      "60000/60000 [==============================] - 4s 74us/sample - loss: 0.0063 - acc: 0.9980 - val_loss: 0.0988 - val_acc: 0.9789\n",
      "Epoch 19/20\n",
      "60000/60000 [==============================] - 4s 72us/sample - loss: 0.0075 - acc: 0.9976 - val_loss: 0.1046 - val_acc: 0.9796\n",
      "Epoch 20/20\n",
      "60000/60000 [==============================] - 6s 98us/sample - loss: 0.0078 - acc: 0.9974 - val_loss: 0.1049 - val_acc: 0.9789\n"
     ]
    }
   ],
   "source": [
    "history5=model.fit(x_train, y_train,\n",
    "          batch_size=batch_size,\n",
    "          epochs=epochs,\n",
    "          verbose=1,\n",
    "          validation_data=(x_test, y_test))"
   ]
  },
  {
   "cell_type": "code",
   "execution_count": null,
   "metadata": {},
   "outputs": [],
   "source": []
  }
 ],
 "metadata": {
  "kernelspec": {
   "display_name": "Python 3",
   "language": "python",
   "name": "python3"
  },
  "language_info": {
   "codemirror_mode": {
    "name": "ipython",
    "version": 3
   },
   "file_extension": ".py",
   "mimetype": "text/x-python",
   "name": "python",
   "nbconvert_exporter": "python",
   "pygments_lexer": "ipython3",
   "version": "3.7.9"
  }
 },
 "nbformat": 4,
 "nbformat_minor": 2
}
